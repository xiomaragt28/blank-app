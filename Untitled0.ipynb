{
  "nbformat": 4,
  "nbformat_minor": 0,
  "metadata": {
    "colab": {
      "provenance": [],
      "toc_visible": true,
      "authorship_tag": "ABX9TyNKyXE5rsMf2q88NMSK2pXb",
      "include_colab_link": true
    },
    "kernelspec": {
      "name": "python3",
      "display_name": "Python 3"
    },
    "language_info": {
      "name": "python"
    }
  },
  "cells": [
    {
      "cell_type": "markdown",
      "metadata": {
        "id": "view-in-github",
        "colab_type": "text"
      },
      "source": [
        "<a href=\"https://colab.research.google.com/github/xiomaragt28/blank-app/blob/main/Untitled0.ipynb\" target=\"_parent\"><img src=\"https://colab.research.google.com/assets/colab-badge.svg\" alt=\"Open In Colab\"/></a>"
      ]
    },
    {
      "cell_type": "code",
      "execution_count": 2,
      "metadata": {
        "id": "Ay1nU32sXUhj",
        "colab": {
          "base_uri": "https://localhost:8080/",
          "height": 106
        },
        "outputId": "f15aa6b1-567d-4d1e-8a6a-4deb26ed7893"
      },
      "outputs": [
        {
          "output_type": "error",
          "ename": "SyntaxError",
          "evalue": "invalid syntax (<ipython-input-2-e9edb880ad73>, line 2)",
          "traceback": [
            "\u001b[0;36m  File \u001b[0;32m\"<ipython-input-2-e9edb880ad73>\"\u001b[0;36m, line \u001b[0;32m2\u001b[0m\n\u001b[0;31m    streamlit run 1000-Registros-de-ventasX.xlsx\u001b[0m\n\u001b[0m              ^\u001b[0m\n\u001b[0;31mSyntaxError\u001b[0m\u001b[0;31m:\u001b[0m invalid syntax\n"
          ]
        }
      ],
      "source": [
        "!pip install streamlit\n",
        "streamlit run 1000-Registros-de-ventasX.xlsx\n",
        "import pandas as pd\n",
        "import numpy as np\n",
        "from sklearn.linear_model import LinearRegression\n",
        "from sklearn.model_selection import train_test_split\n",
        "from sklearn.preprocessing import MinMaxScaler\n",
        "import matplotlib.pyplot as plt\n",
        "import streamlit as st # Importing streamlit library and aliasing it as 'st'\n",
        "\n",
        "# Función para cargar y procesar datos\n",
        "def load_data(uploaded_file):\n",
        "    data = pd.read_excel(uploaded_file)\n",
        "    data['Mes'] = np.arange(1, len(data) + 1)  # Asumimos que cada registro es mensual\n",
        "    return data\n",
        "\n",
        "# Función para obtener productos con mayor número de ventas\n",
        "def get_top_products(data, top_n=5):\n",
        "    top_products = data.groupby('Tipo de producto')['Unidades'].sum().sort_values(ascending=False).head(top_n)\n",
        "    return top_products\n",
        "\n",
        "# Función para preparar los datos para el pronóstico\n",
        "def prepare_data(data, product):\n",
        "    product_data = data[data['Tipo de producto'] == product]\n",
        "    monthly_sales = product_data.groupby('Mes')['Unidades'].sum().reset_index()\n",
        "    sales_data = monthly_sales['Unidades'].values.reshape(-1, 1)\n",
        "    scaler = MinMaxScaler()\n",
        "    scaled_sales = scaler.fit_transform(sales_data)\n",
        "    return monthly_sales, scaled_sales, scaler\n",
        "\n",
        "# Función para entrenar el modelo y generar pronóstico\n",
        "def forecast_sales(scaled_sales, scaler):\n",
        "    X = np.arange(len(scaled_sales)).reshape(-1, 1)\n",
        "    y = scaled_sales\n",
        "    X_train, X_test, y_train, y_test = train_test_split(X, y, test_size=0.2, shuffle=False)\n",
        "\n",
        "    model = LinearRegression()\n",
        "    model.fit(X_train, y_train)\n",
        "\n",
        "    future_months = np.arange(len(scaled_sales), len(scaled_sales) + 6).reshape(-1, 1)\n",
        "    predictions = model.predict(future_months)\n",
        "    predictions = scaler.inverse_transform(predictions)\n",
        "\n",
        "    return predictions\n",
        "\n",
        "# Función para visualizar los datos y el pronóstico\n",
        "def plot_forecast(monthly_sales, predictions, product):\n",
        "    fig, ax = plt.subplots()\n",
        "    ax.plot(monthly_sales['Mes'], monthly_sales['Unidades'], label=\"Ventas históricas\", marker='o')\n",
        "    ax.plot(np.arange(len(monthly_sales) + 1, len(monthly_sales) + 7), predictions, label=\"Pronóstico\", marker='o', linestyle=\"--\")\n",
        "    ax.set_xlabel(\"Mes\")\n",
        "    ax.set_ylabel(\"Unidades Vendidas\")\n",
        "    ax.set_title(f\"Pronóstico de Ventas para {product}\")\n",
        "    ax.legend()\n",
        "    st.pyplot(fig)\n",
        "\n",
        "# Configuración de la aplicación de Streamlit\n",
        "st.title(\"Aplicación de Pronóstico de Ventas\")\n",
        "\n",
        "# Cargar archivo de Excel\n",
        "uploaded_file = st.file_uploader(\"Sube el archivo de ventas en Excel\", type=\"xlsx\")\n",
        "\n",
        "if uploaded_file is not None:\n",
        "    # Cargar y mostrar datos\n",
        "    data = load_data(uploaded_file)\n",
        "    st.write(\"Datos cargados:\")\n",
        "    st.write(data.head())\n",
        "\n",
        "    # Mostrar los productos con el mayor número de ventas\n",
        "    st.subheader(\"Top 5 Productos con Mayor Número de Ventas\")\n",
        "    top_products = get_top_products(data)\n",
        "    st.write(top_products)\n",
        "\n",
        "    # Selección del producto para pronóstico\n",
        "    productos = data['Tipo de producto'].unique()\n",
        "    product = st.selectbox(\"Selecciona el producto para el pronóstico:\", productos)\n",
        "\n",
        "    # Preparar datos y hacer pronóstico\n",
        "    monthly_sales, scaled_sales, scaler = prepare_data(data, product)\n",
        "    predictions = forecast_sales(scaled_sales, scaler)\n",
        "\n",
        "\n",
        "    # Mostrar pronóstico\n",
        "    st.write(f\"Pronóstico para los próximos 6 meses de {product}:\")\n",
        "    st.write(predictions)\n",
        "\n",
        "    # Visualizar datos históricos y pronóstico\n",
        "    plot_forecast(monthly_sales, predictions, product)\n",
        "else:\n",
        "    st.write(\"Por favor, sube un archivo en formato Excel para continuar.\")"
      ]
    }
  ]
}